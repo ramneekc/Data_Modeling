{
 "cells": [
  {
   "cell_type": "code",
   "execution_count": 3,
   "metadata": {},
   "outputs": [],
   "source": [
    "import psycopg2"
   ]
  },
  {
   "cell_type": "code",
   "execution_count": 20,
   "metadata": {},
   "outputs": [],
   "source": [
    "# Create your connection to the postgres database\n",
    "conn = psycopg2.connect(\"host=127.0.0.1 dbname=studentdb user=postgres password=ramneekc\")\n",
    "cur = conn.cursor()\n",
    "conn.set_session(autocommit=True)"
   ]
  },
  {
   "cell_type": "code",
   "execution_count": 23,
   "metadata": {},
   "outputs": [
    {
     "name": "stdout",
     "output_type": "stream",
     "text": [
      "(1, 'Rubber Soul', 'The Beatles', 1965, ['Michelle', 'Think For Yourself', 'In My Life'])\n",
      "(2, 'Let It Be', 'The Beatles', 1970, ['Let It Be', 'Across The Universe'])\n"
     ]
    }
   ],
   "source": [
    "# Create a table called Music Library with 5 columns\n",
    "cur.execute(\"CREATE TABLE IF NOT EXISTS music_library (album_id int, \\\n",
    "                                                           album_name varchar, artist_name varchar, \\\n",
    "                                                           year int, songs text[]);\")\n",
    "\n",
    "# Insert the data\n",
    "\n",
    "cur.execute(\"INSERT INTO music_library (album_id, album_name, artist_name, year, songs) \\\n",
    "                 VALUES (%s, %s, %s, %s, %s)\", \\\n",
    "                 (1, \"Rubber Soul\", \"The Beatles\", 1965, [\"Michelle\", \"Think For Yourself\", \"In My Life\"]))\n",
    "\n",
    "cur.execute(\"INSERT INTO music_library (album_id, album_name, artist_name, year, songs) \\\n",
    "                 VALUES (%s, %s, %s, %s, %s)\", \\\n",
    "                 (2, \"Let It Be\", \"The Beatles\", 1970, [\"Let It Be\", \"Across The Universe\"]))\n",
    "    \n",
    "# Confirm the data got inserted in the table we created    \n",
    "cur.execute(\"SELECT * FROM music_library;\")\n",
    "\n",
    "row = cur.fetchone()\n",
    "while row:\n",
    "   print(row)\n",
    "   row = cur.fetchone()"
   ]
  },
  {
   "cell_type": "code",
   "execution_count": 24,
   "metadata": {},
   "outputs": [
    {
     "name": "stdout",
     "output_type": "stream",
     "text": [
      "(1, 'Rubber Soul', 'The Beatles', 1965, 'Michelle')\n",
      "(1, 'Rubber Soul', 'The Beatles', 1965, 'Think For Yourself')\n",
      "(1, 'Rubber Soul', 'The Beatles', 1965, 'In My Life')\n",
      "(2, 'Let It Be', 'The Beatles', 1970, 'Let It Be')\n",
      "(2, 'Let It Be', 'The Beatles', 1970, 'Across The Universe')\n"
     ]
    }
   ],
   "source": [
    "# Create First Normal Form\n",
    "\n",
    "cur.execute(\"CREATE TABLE IF NOT EXISTS music_library2 (album_id int, \\\n",
    "                                                           album_name varchar, artist_name varchar, \\\n",
    "                                                           year int, song_name varchar);\")\n",
    "\n",
    "cur.execute(\"INSERT INTO music_library2 (album_id, album_name, artist_name, year, song_name) \\\n",
    "                 VALUES (%s, %s, %s, %s, %s)\", \\\n",
    "                 (1, \"Rubber Soul\", \"The Beatles\", 1965, \"Michelle\"))\n",
    "\n",
    "cur.execute(\"INSERT INTO music_library2 (album_id, album_name, artist_name, year, song_name) \\\n",
    "                 VALUES (%s, %s, %s, %s, %s)\", \\\n",
    "                 (1, \"Rubber Soul\", \"The Beatles\", 1965, \"Think For Yourself\"))\n",
    "\n",
    "cur.execute(\"INSERT INTO music_library2 (album_id, album_name, artist_name, year, song_name) \\\n",
    "                 VALUES (%s, %s, %s, %s, %s)\", \\\n",
    "                 (1, \"Rubber Soul\", \"The Beatles\", 1965, \"In My Life\"))\n",
    "\n",
    "cur.execute(\"INSERT INTO music_library2 (album_id, album_name, artist_name, year, song_name) \\\n",
    "                 VALUES (%s, %s, %s, %s, %s)\", \\\n",
    "                 (2, \"Let It Be\", \"The Beatles\", 1970, \"Let It Be\"))\n",
    "\n",
    "cur.execute(\"INSERT INTO music_library2 (album_id, album_name, artist_name, year, song_name) \\\n",
    "                 VALUES (%s, %s, %s, %s, %s)\", \\\n",
    "                 (2, \"Let It Be\", \"The Beatles\", 1970, \"Across The Universe\"))\n",
    "\n",
    "cur.execute(\"SELECT * FROM music_library2;\")\n",
    "\n",
    "\n",
    "row = cur.fetchone()\n",
    "while row:\n",
    "   print(row)\n",
    "   row = cur.fetchone()"
   ]
  },
  {
   "cell_type": "code",
   "execution_count": 25,
   "metadata": {},
   "outputs": [
    {
     "name": "stdout",
     "output_type": "stream",
     "text": [
      "Table: album_library\n",
      "\n",
      "(1, 'Rubber Soul', 'The Beatles', 1965)\n",
      "(2, 'Let It Be', 'The Beatles', 1970)\n",
      "\n",
      "Table: song_library\n",
      "\n",
      "(1, 1, 'Michelle')\n",
      "(2, 1, 'Think For Yourself')\n",
      "(3, 1, 'In My Life')\n",
      "(4, 2, 'Let It Be')\n",
      "(5, 2, 'Across the Universe')\n"
     ]
    }
   ],
   "source": [
    "# Create Second Normal Form\n",
    "\n",
    "cur.execute(\"CREATE TABLE IF NOT EXISTS album_library (album_id int, \\\n",
    "                                                           album_name varchar, artist_name varchar, \\\n",
    "                                                           year int);\")\n",
    " \n",
    "cur.execute(\"CREATE TABLE IF NOT EXISTS song_library (song_id int, album_id int, \\\n",
    "                                                          song_name varchar);\")\n",
    "\n",
    "cur.execute(\"INSERT INTO album_library (album_id, album_name, artist_name, year) \\\n",
    "                 VALUES (%s, %s, %s, %s)\", \\\n",
    "                 (1, \"Rubber Soul\", \"The Beatles\", 1965))\n",
    "\n",
    "cur.execute(\"INSERT INTO album_library (album_id, album_name, artist_name, year) \\\n",
    "                 VALUES (%s, %s, %s, %s)\", \\\n",
    "                 (2, \"Let It Be\", \"The Beatles\", 1970))\n",
    " \n",
    "cur.execute(\"INSERT INTO song_library (song_id, album_id, song_name) \\\n",
    "                 VALUES (%s, %s, %s)\", \\\n",
    "                 (1, 1, \"Michelle\"))\n",
    "\n",
    "cur.execute(\"INSERT INTO song_library (song_id, album_id, song_name) \\\n",
    "                 VALUES (%s, %s, %s)\", \\\n",
    "                 (2, 1, \"Think For Yourself\"))\n",
    "\n",
    "cur.execute(\"INSERT INTO song_library (song_id, album_id, song_name) \\\n",
    "                 VALUES (%s, %s, %s)\", \\\n",
    "                 (3, 1, \"In My Life\"))\n",
    " \n",
    "cur.execute(\"INSERT INTO song_library (song_id, album_id, song_name) \\\n",
    "                 VALUES (%s, %s, %s)\", \\\n",
    "                 (4, 2, \"Let It Be\"))\n",
    " \n",
    "cur.execute(\"INSERT INTO song_library (song_id, album_id, song_name) \\\n",
    "                 VALUES (%s, %s, %s)\", \\\n",
    "                 (5, 2, \"Across the Universe\"))\n",
    "\n",
    "print(\"Table: album_library\\n\")\n",
    " \n",
    "cur.execute(\"SELECT * FROM album_library;\")\n",
    "\n",
    "row = cur.fetchone()\n",
    "while row:\n",
    "   print(row)\n",
    "   row = cur.fetchone()\n",
    "\n",
    "print(\"\\nTable: song_library\\n\")\n",
    "\n",
    "cur.execute(\"SELECT * FROM song_library;\")\n",
    "\n",
    "row = cur.fetchone()\n",
    "while row:\n",
    "   print(row)\n",
    "   row = cur.fetchone()"
   ]
  },
  {
   "cell_type": "code",
   "execution_count": 26,
   "metadata": {},
   "outputs": [
    {
     "name": "stdout",
     "output_type": "stream",
     "text": [
      "(1, 'Rubber Soul', 'The Beatles', 1965, 1, 1, 'Michelle')\n",
      "(1, 'Rubber Soul', 'The Beatles', 1965, 2, 1, 'Think For Yourself')\n",
      "(1, 'Rubber Soul', 'The Beatles', 1965, 3, 1, 'In My Life')\n",
      "(2, 'Let It Be', 'The Beatles', 1970, 4, 2, 'Let It Be')\n",
      "(2, 'Let It Be', 'The Beatles', 1970, 5, 2, 'Across the Universe')\n"
     ]
    }
   ],
   "source": [
    "# Do a JOIN on this table so we can get all the information we had in our first Table.\n",
    "\n",
    "cur.execute(\"SELECT * FROM album_library JOIN\\\n",
    "                 song_library ON album_library.album_id = song_library.album_id ;\")\n",
    "\n",
    "row = cur.fetchone()\n",
    "while row:\n",
    "   print(row)\n",
    "   row = cur.fetchone()\n"
   ]
  },
  {
   "cell_type": "code",
   "execution_count": null,
   "metadata": {},
   "outputs": [],
   "source": []
  }
 ],
 "metadata": {
  "kernelspec": {
   "display_name": "Python 3",
   "language": "python",
   "name": "python3"
  },
  "language_info": {
   "codemirror_mode": {
    "name": "ipython",
    "version": 3
   },
   "file_extension": ".py",
   "mimetype": "text/x-python",
   "name": "python",
   "nbconvert_exporter": "python",
   "pygments_lexer": "ipython3",
   "version": "3.7.3"
  }
 },
 "nbformat": 4,
 "nbformat_minor": 2
}
