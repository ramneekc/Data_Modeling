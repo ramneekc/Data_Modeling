{
 "cells": [
  {
   "cell_type": "code",
   "execution_count": 1,
   "metadata": {},
   "outputs": [],
   "source": [
    "import psycopg2"
   ]
  },
  {
   "cell_type": "code",
   "execution_count": 2,
   "metadata": {},
   "outputs": [],
   "source": [
    "# Create your connection to the postgres database\n",
    "conn = psycopg2.connect(\"host=127.0.0.1 dbname=studentdb user=postgres password=ramneekc\")\n",
    "cur = conn.cursor()\n",
    "conn.set_session(autocommit=True)"
   ]
  },
  {
   "cell_type": "markdown",
   "metadata": {},
   "source": [
    "Let's start with our normalized (3NF) database with the following set of tables\n",
    "Table Name: transactions2 \n",
    "column 0: transaction Id\n",
    "column 1: Customer Name\n",
    "column 2: Cashier Id\n",
    "column 3: Year\n",
    "\n",
    "Table Name: albums_sold\n",
    "column 0: Album Id\n",
    "column 1: Transaction Id\n",
    "column 3: Album Name\n",
    "\n",
    "Table Name: employees\n",
    "column 0: Employee Id\n",
    "column 1: Employee Name\n",
    "\n",
    "Table Name: sales\n",
    "column 0: Transaction Id\n",
    "column 1: Amount Spent"
   ]
  },
  {
   "cell_type": "code",
   "execution_count": 3,
   "metadata": {},
   "outputs": [],
   "source": [
    "# Create tables\n",
    "cur.execute(\"CREATE TABLE IF NOT EXISTS transactions2 (transaction_id int, customer_name text, cashier_id int, \\\n",
    "                                                            year int)\")\n",
    "cur.execute(\"CREATE TABLE IF NOT EXISTS albums_sold (album_id int, transaction_id int, album_name text)\")\n",
    "\n",
    "cur.execute(\"CREATE TABLE IF NOT EXISTS employees (employee_id int, employee_name text)\")\n",
    "\n",
    "cur.execute(\"CREATE TABLE IF NOT EXISTS sales (transaction_id int, amount_spent int)\")\n",
    "# Insert data into the tables \n",
    "\n",
    "cur.execute(\"INSERT INTO transactions2 (transaction_id, customer_name, cashier_id, year) \\\n",
    "                 VALUES (%s, %s, %s, %s)\", \\\n",
    "                 (1, \"Amanda\", 1, 2000))\n",
    "cur.execute(\"INSERT INTO transactions2 (transaction_id, customer_name, cashier_id, year) \\\n",
    "                 VALUES (%s, %s, %s, %s)\", \\\n",
    "                 (2, \"Toby\", 1, 2000))\n",
    "cur.execute(\"INSERT INTO transactions2 (transaction_id, customer_name, cashier_id, year) \\\n",
    "                 VALUES (%s, %s, %s, %s)\", \\\n",
    "                 (3, \"Max\", 2, 2018))\n",
    "\n",
    "cur.execute(\"INSERT INTO albums_sold (album_id, transaction_id, album_name) \\\n",
    "                 VALUES (%s, %s, %s)\", \\\n",
    "                 (1, 1, \"Rubber Soul\"))\n",
    "cur.execute(\"INSERT INTO albums_sold (album_id, transaction_id, album_name) \\\n",
    "                 VALUES (%s, %s, %s)\", \\\n",
    "                 (2, 1, \"Let It Be\"))\n",
    "cur.execute(\"INSERT INTO albums_sold (album_id, transaction_id, album_name) \\\n",
    "                 VALUES (%s, %s, %s)\", \\\n",
    "                 (3, 2, \"My Generation\"))\n",
    "cur.execute(\"INSERT INTO albums_sold (album_id, transaction_id, album_name) \\\n",
    "                 VALUES (%s, %s, %s)\", \\\n",
    "                 (4, 3, \"Meet the Beatles\"))\n",
    "cur.execute(\"INSERT INTO albums_sold (album_id, transaction_id, album_name) \\\n",
    "                 VALUES (%s, %s, %s)\", \\\n",
    "                 (5, 3, \"Help!\"))\n",
    "\n",
    "cur.execute(\"INSERT INTO employees (employee_id, employee_name) \\\n",
    "                 VALUES (%s, %s)\", \\\n",
    "                 (1, \"Sam\"))\n",
    "cur.execute(\"INSERT INTO employees (employee_id, employee_name) \\\n",
    "                 VALUES (%s, %s)\", \\\n",
    "                 (2, \"Bob\"))\n",
    "\n",
    "cur.execute(\"INSERT INTO sales (transaction_id, amount_spent) \\\n",
    "                 VALUES (%s, %s)\", \\\n",
    "                 (1, 40))\n",
    "cur.execute(\"INSERT INTO sales (transaction_id, amount_spent) \\\n",
    "                 VALUES (%s, %s)\", \\\n",
    "                 (2, 19))\n",
    "cur.execute(\"INSERT INTO sales (transaction_id, amount_spent) \\\n",
    "                 VALUES (%s, %s)\", \\\n",
    "                 (3, 45))"
   ]
  },
  {
   "cell_type": "code",
   "execution_count": 4,
   "metadata": {},
   "outputs": [
    {
     "name": "stdout",
     "output_type": "stream",
     "text": [
      "Table: transactions2\n",
      "\n",
      "(1, 'Amanda', 1, 2000)\n",
      "(2, 'Toby', 1, 2000)\n",
      "(3, 'Max', 2, 2018)\n",
      "\n",
      "Table: albums_sold\n",
      "\n",
      "(1, 1, 'Rubber Soul')\n",
      "(2, 1, 'Let It Be')\n",
      "(3, 2, 'My Generation')\n",
      "(4, 3, 'Meet the Beatles')\n",
      "(5, 3, 'Help!')\n",
      "\n",
      "Table: employees\n",
      "\n",
      "(1, 'Sam')\n",
      "(2, 'Bob')\n",
      "\n",
      "Table: sales\n",
      "\n",
      "(1, 40)\n",
      "(2, 19)\n",
      "(3, 45)\n"
     ]
    }
   ],
   "source": [
    "print(\"Table: transactions2\\n\")\n",
    "try: \n",
    "    cur.execute(\"SELECT * FROM transactions2;\")\n",
    "except psycopg2.Error as e: \n",
    "    print(\"Error: select *\")\n",
    "    print (e)\n",
    "\n",
    "row = cur.fetchone()\n",
    "while row:\n",
    "   print(row)\n",
    "   row = cur.fetchone()\n",
    "\n",
    "print(\"\\nTable: albums_sold\\n\")\n",
    "try: \n",
    "    cur.execute(\"SELECT * FROM albums_sold;\")\n",
    "except psycopg2.Error as e: \n",
    "    print(\"Error: select *\")\n",
    "    print (e)\n",
    "\n",
    "row = cur.fetchone()\n",
    "while row:\n",
    "   print(row)\n",
    "   row = cur.fetchone()\n",
    "\n",
    "print(\"\\nTable: employees\\n\")\n",
    "try: \n",
    "    cur.execute(\"SELECT * FROM employees;\")\n",
    "except psycopg2.Error as e: \n",
    "    print(\"Error: select *\")\n",
    "    print (e)\n",
    "\n",
    "row = cur.fetchone()\n",
    "while row:\n",
    "   print(row)\n",
    "   row = cur.fetchone()\n",
    "    \n",
    "print(\"\\nTable: sales\\n\")\n",
    "try: \n",
    "    cur.execute(\"SELECT * FROM sales;\")\n",
    "except psycopg2.Error as e: \n",
    "    print(\"Error: select *\")\n",
    "    print (e)\n",
    "\n",
    "row = cur.fetchone()\n",
    "while row:\n",
    "   print(row)\n",
    "   row = cur.fetchone()"
   ]
  },
  {
   "cell_type": "markdown",
   "metadata": {},
   "source": [
    "Performed a 3 way JOIN on the 4 tables created"
   ]
  },
  {
   "cell_type": "code",
   "execution_count": 5,
   "metadata": {},
   "outputs": [
    {
     "name": "stdout",
     "output_type": "stream",
     "text": [
      "(1, 'Sam', 2000, 'Rubber Soul', 40)\n",
      "(1, 'Sam', 2000, 'Let It Be', 40)\n",
      "(2, 'Sam', 2000, 'My Generation', 19)\n",
      "(3, 'Bob', 2018, 'Meet the Beatles', 45)\n",
      "(3, 'Bob', 2018, 'Help!', 45)\n"
     ]
    }
   ],
   "source": [
    "try: \n",
    "    cur.execute(\"SELECT t2.transaction_id, e.employee_name, t2.year, al.album_name, s.amount_spent \\\n",
    "                 FROM transactions2 t2 JOIN albums_sold al ON t2.transaction_id = al.transaction_id \\\n",
    "                 JOIN employees e ON t2.cashier_id = e.employee_id \\\n",
    "                 JOIN sales s ON t2.transaction_id = s.transaction_id\")\n",
    "    \n",
    "    \n",
    "except psycopg2.Error as e: \n",
    "    print(\"Error: select *\")\n",
    "    print (e)\n",
    "\n",
    "row = cur.fetchone()\n",
    "while row:\n",
    "   print(row)\n",
    "   row = cur.fetchone()"
   ]
  },
  {
   "cell_type": "markdown",
   "metadata": {},
   "source": [
    "But, we had to perform a 3 way JOIN to get there. While it's great we had that flexibility, we need to remember that JOINS are slow and if we have a read heavy workload that required low latency queries we want to reduce the number of JOINS. Let's think about denormalizing our normalized tables."
   ]
  },
  {
   "cell_type": "markdown",
   "metadata": {},
   "source": [
    "Denormalize to so we can perform a query that should generate the amount spent on each transaction"
   ]
  },
  {
   "cell_type": "markdown",
   "metadata": {},
   "source": [
    "One way to do this would be to do a JOIN on the sales and transactions2 table but we want to minimize the use of JOINS.\n",
    "\n",
    "To reduce the number of tables, first add amount_spent to the transactions table so that you will not need to do a JOIN at all."
   ]
  },
  {
   "cell_type": "code",
   "execution_count": null,
   "metadata": {},
   "outputs": [],
   "source": []
  }
 ],
 "metadata": {
  "kernelspec": {
   "display_name": "Python 3",
   "language": "python",
   "name": "python3"
  },
  "language_info": {
   "codemirror_mode": {
    "name": "ipython",
    "version": 3
   },
   "file_extension": ".py",
   "mimetype": "text/x-python",
   "name": "python",
   "nbconvert_exporter": "python",
   "pygments_lexer": "ipython3",
   "version": "3.7.3"
  }
 },
 "nbformat": 4,
 "nbformat_minor": 2
}
